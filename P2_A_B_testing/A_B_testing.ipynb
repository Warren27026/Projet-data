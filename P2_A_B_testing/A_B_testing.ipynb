{
 "cells": [
  {
   "cell_type": "markdown",
   "id": "1afdbd4c-c38e-4bb0-9b17-0afc800973dd",
   "metadata": {},
   "source": [
    "# Projet A/B testing"
   ]
  },
  {
   "cell_type": "markdown",
   "id": "d45a174f-e3ba-4d42-979d-e78be58db294",
   "metadata": {},
   "source": [
    "## importation des modules et chargement"
   ]
  },
  {
   "cell_type": "code",
   "execution_count": 8,
   "id": "53d88323-382a-463c-81fb-6d5b35ea7c57",
   "metadata": {},
   "outputs": [],
   "source": [
    "import pandas as pd\n",
    "import matplotlib.pyplot as plt\n",
    "import seaborn as sns\n",
    "from scipy import stats\n",
    "from statsmodels.stats.proportion import proportion_confint"
   ]
  },
  {
   "cell_type": "code",
   "execution_count": 3,
   "id": "1410ba8c-ed95-4944-9625-3d653cd3b4b9",
   "metadata": {},
   "outputs": [
    {
     "name": "stdout",
     "output_type": "stream",
     "text": [
      "   user_id                   timestamp      group landing_page  converted\n",
      "0   851104  2017-01-21 22:11:48.556739    control     old_page          0\n",
      "1   804228  2017-01-12 08:01:45.159739    control     old_page          0\n",
      "2   661590  2017-01-11 16:55:06.154213  treatment     new_page          0\n",
      "3   853541  2017-01-08 18:28:03.143765  treatment     new_page          0\n",
      "4   864975  2017-01-21 01:52:26.210827    control     old_page          1\n",
      "<class 'pandas.core.frame.DataFrame'>\n",
      "RangeIndex: 294478 entries, 0 to 294477\n",
      "Data columns (total 5 columns):\n",
      " #   Column        Non-Null Count   Dtype \n",
      "---  ------        --------------   ----- \n",
      " 0   user_id       294478 non-null  int64 \n",
      " 1   timestamp     294478 non-null  object\n",
      " 2   group         294478 non-null  object\n",
      " 3   landing_page  294478 non-null  object\n",
      " 4   converted     294478 non-null  int64 \n",
      "dtypes: int64(2), object(3)\n",
      "memory usage: 11.2+ MB\n",
      "None\n",
      "user_id         0\n",
      "timestamp       0\n",
      "group           0\n",
      "landing_page    0\n",
      "converted       0\n",
      "dtype: int64\n",
      "group\n",
      "treatment    147276\n",
      "control      147202\n",
      "Name: count, dtype: int64\n"
     ]
    }
   ],
   "source": [
    "# Charger le dataset\n",
    "df = pd.read_csv('ab_data.csv')\n",
    "\n",
    "# Aperçu des données\n",
    "print(df.head())\n",
    "print(df.info())\n",
    "\n",
    "# Vérifier les valeurs manquantes\n",
    "print(df.isnull().sum())\n",
    "\n",
    "# Vérifier la répartition des groupes\n",
    "print(df['group'].value_counts())"
   ]
  },
  {
   "cell_type": "markdown",
   "id": "a6c2aa47-35e7-407f-8e77-d9169e119514",
   "metadata": {},
   "source": [
    "## Nettoyage des Données"
   ]
  },
  {
   "cell_type": "code",
   "execution_count": 4,
   "id": "86394539-e53e-43b8-9898-d2e5635a21ee",
   "metadata": {},
   "outputs": [
    {
     "name": "stdout",
     "output_type": "stream",
     "text": [
      "Incohérences trouvées : 3893\n",
      "Taille du dataset après nettoyage : (290584, 5)\n"
     ]
    }
   ],
   "source": [
    "# Vérifier les incohérences\n",
    "inconsistent = df[((df['group'] == 'control') & (df['landing_page'] != 'old_page')) |\n",
    "                  ((df['group'] == 'treatment') & (df['landing_page'] != 'new_page'))]\n",
    "print(f\"Incohérences trouvées : {len(inconsistent)}\")\n",
    "\n",
    "# Supprimer les incohérences\n",
    "df_clean = df[~df.index.isin(inconsistent.index)]\n",
    "\n",
    "# Supprimer les doublons d'utilisateurs\n",
    "df_clean = df_clean.drop_duplicates(subset='user_id', keep='first')\n",
    "\n",
    "# Vérifier la taille du dataset nettoyé\n",
    "print(f\"Taille du dataset après nettoyage : {df_clean.shape}\")"
   ]
  },
  {
   "cell_type": "markdown",
   "id": "3f6dc0a6-e747-4b69-aada-ce37831de414",
   "metadata": {},
   "source": [
    "## Analyse Exploratoire"
   ]
  },
  {
   "cell_type": "code",
   "execution_count": 6,
   "id": "364d3af7-b9f1-4bac-afeb-7de963606049",
   "metadata": {},
   "outputs": [
    {
     "name": "stdout",
     "output_type": "stream",
     "text": [
      "Taux de conversion :\n",
      "group\n",
      "control      0.120386\n",
      "treatment    0.118808\n",
      "Name: converted, dtype: float64\n"
     ]
    },
    {
     "data": {
      "image/png": "[encoded data removed]",
      "text/plain": [
       "<Figure size 800x600 with 1 Axes>"
      ]
     },
     "metadata": {},
     "output_type": "display_data"
    }
   ],
   "source": [
    "# Taux de conversion par groupe\n",
    "conversion_rates = df_clean.groupby('group')['converted'].mean()\n",
    "print(\"Taux de conversion :\")\n",
    "print(conversion_rates)\n",
    "\n",
    "# Visualisation\n",
    "plt.figure(figsize=(8, 6))\n",
    "sns.barplot(x=conversion_rates.index, y=conversion_rates.values, hue=conversion_rates.index, palette=['#1f77b4', '#ff7f0e'], legend=False)\n",
    "plt.title('Taux de Conversion par Groupe')\n",
    "plt.ylabel('Taux de Conversion')\n",
    "plt.xlabel('Groupe')\n",
    "plt.show()"
   ]
  },
  {
   "cell_type": "markdown",
   "id": "c3ad2b7d-a323-44f8-b22d-008956b03375",
   "metadata": {},
   "source": [
    "## Test Statistique\n",
    "H0 : Les taux de conversion des deux groupes sont égaux.\n",
    "H1 : Les taux de conversion sont différents."
   ]
  },
  {
   "cell_type": "code",
   "execution_count": 7,
   "id": "97c885d9-42b5-4843-a364-27fc1b9b62ab",
   "metadata": {},
   "outputs": [
    {
     "name": "stdout",
     "output_type": "stream",
     "text": [
      "Tableau de contingence :\n",
      "converted       0      1\n",
      "group                   \n",
      "control    127785  17489\n",
      "treatment  128046  17264\n",
      "Chi² : 1.7035660051885058, p-value : 0.19182228096235662\n",
      "Pas de différence significative (on ne rejette pas H0).\n"
     ]
    }
   ],
   "source": [
    "# Tableau de contingence\n",
    "contingency_table = pd.crosstab(df_clean['group'], df_clean['converted'])\n",
    "print(\"Tableau de contingence :\")\n",
    "print(contingency_table)\n",
    "\n",
    "# Test du chi²\n",
    "chi2, p_value, dof, expected = stats.chi2_contingency(contingency_table)\n",
    "print(f\"Chi² : {chi2}, p-value : {p_value}\")\n",
    "\n",
    "# Interprétation\n",
    "if p_value < 0.05:\n",
    "    print(\"La différence est statistiquement significative (rejet de H0).\")\n",
    "else:\n",
    "    print(\"Pas de différence significative (on ne rejette pas H0).\")"
   ]
  },
  {
   "cell_type": "markdown",
   "id": "762d44dd-77fd-4026-a76d-65ad843c584a",
   "metadata": {},
   "source": [
    "## Visualisation Finale"
   ]
  },
  {
   "cell_type": "code",
   "execution_count": 9,
   "id": "a4a40d16-af61-484f-95af-143934d1d918",
   "metadata": {},
   "outputs": [
    {
     "data": {
      "image/png": "[encoded data removed]",
      "text/plain": [
       "<Figure size 800x600 with 1 Axes>"
      ]
     },
     "metadata": {},
     "output_type": "display_data"
    }
   ],
   "source": [
    "# Création d'un graphique avec intervalle de confiance\n",
    "# Calcul des intervalles de confiance\n",
    "conv_a = df_clean[df_clean['group'] == 'control']['converted']\n",
    "conv_b = df_clean[df_clean['group'] == 'treatment']['converted']\n",
    "\n",
    "ci_a = proportion_confint(conv_a.sum(), conv_a.count(), alpha=0.05)\n",
    "ci_b = proportion_confint(conv_b.sum(), conv_b.count(), alpha=0.05)\n",
    "\n",
    "# Données pour le graphique\n",
    "groups = ['Control (A)', 'Treatment (B)']\n",
    "rates = [conv_a.mean(), conv_b.mean()]\n",
    "errors = [(rates[0] - ci_a[0]), (rates[1] - ci_b[0])]\n",
    "\n",
    "# Création du graphique\n",
    "plt.figure(figsize=(8, 6))\n",
    "plt.bar(groups, rates, yerr=errors, capsize=5, color=['#1f77b4', '#ff7f0e'])\n",
    "plt.title('Taux de Conversion avec Intervalles de Confiance (95%)')\n",
    "plt.ylabel('Taux de Conversion')\n",
    "plt.xlabel('Groupe')\n",
    "plt.show()"
   ]
  },
  {
   "cell_type": "code",
   "execution_count": 10,
   "id": "ebdda4c6-dfa6-49e8-8c5a-247c17ca7f9b",
   "metadata": {},
   "outputs": [
    {
     "name": "stdout",
     "output_type": "stream",
     "text": [
      "Taille d'échantillon nécessaire par groupe : 1327153\n",
      "Taille réelle du groupe control : 145274\n",
      "L'échantillon est sous-dimensionné, risque de faible puissance.\n"
     ]
    }
   ],
   "source": [
    "from statsmodels.stats.power import NormalIndPower\n",
    "\n",
    "# Paramètres\n",
    "alpha = 0.05  # Seuil de significativité\n",
    "power = 0.8   # Puissance souhaitée\n",
    "conv_control = df_clean[df_clean['group'] == 'control']['converted'].mean()\n",
    "conv_treatment = df_clean[df_clean['group'] == 'treatment']['converted'].mean()\n",
    "effect_size = abs(conv_control - conv_treatment) / ((conv_control * (1 - conv_control) + conv_treatment * (1 - conv_treatment)) ** 0.5)\n",
    "\n",
    "# Calcul de la taille d'échantillon nécessaire\n",
    "power_analysis = NormalIndPower()\n",
    "sample_size = power_analysis.solve_power(effect_size=effect_size, power=power, alpha=alpha, ratio=1)\n",
    "print(f\"Taille d'échantillon nécessaire par groupe : {sample_size:.0f}\")\n",
    "\n",
    "# Vérification\n",
    "n_control = len(df_clean[df_clean['group'] == 'control'])\n",
    "print(f\"Taille réelle du groupe control : {n_control}\")\n",
    "if n_control >= sample_size:\n",
    "    print(\"L'échantillon est suffisamment grand.\")\n",
    "else:\n",
    "    print(\"L'échantillon est sous-dimensionné, risque de faible puissance.\")"
   ]
  },
  {
   "cell_type": "code",
   "execution_count": null,
   "id": "5212b982-9030-46e9-9a2f-3c031439cd44",
   "metadata": {},
   "outputs": [],
   "source": []
  }
 ],
 "metadata": {
  "kernelspec": {
   "display_name": "Python 3 (ipykernel)",
   "language": "python",
   "name": "python3"
  },
  "language_info": {
   "codemirror_mode": {
    "name": "ipython",
    "version": 3
   },
   "file_extension": ".py",
   "mimetype": "text/x-python",
   "name": "python",
   "nbconvert_exporter": "python",
   "pygments_lexer": "ipython3",
   "version": "3.12.3"
  }
 },
 "nbformat": 4,
 "nbformat_minor": 5
}
